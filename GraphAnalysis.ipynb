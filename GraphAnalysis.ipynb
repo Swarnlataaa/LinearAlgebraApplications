{
  "nbformat": 4,
  "nbformat_minor": 0,
  "metadata": {
    "colab": {
      "provenance": [],
      "authorship_tag": "ABX9TyNE6r1Sc1vvdH8q7e2fhvbY",
      "include_colab_link": true
    },
    "kernelspec": {
      "name": "python3",
      "display_name": "Python 3"
    },
    "language_info": {
      "name": "python"
    }
  },
  "cells": [
    {
      "cell_type": "markdown",
      "metadata": {
        "id": "view-in-github",
        "colab_type": "text"
      },
      "source": [
        "<a href=\"https://colab.research.google.com/github/Swarnlataaa/LinearAlgebraApplications/blob/main/GraphAnalysis.ipynb\" target=\"_parent\"><img src=\"https://colab.research.google.com/assets/colab-badge.svg\" alt=\"Open In Colab\"/></a>"
      ]
    },
    {
      "cell_type": "code",
      "source": [
        "!pip install igraph"
      ],
      "metadata": {
        "colab": {
          "base_uri": "https://localhost:8080/"
        },
        "id": "a4xxwZFLjQjY",
        "outputId": "e33b647a-e4e8-4e8a-f69c-c8d3e648816d"
      },
      "execution_count": null,
      "outputs": [
        {
          "output_type": "stream",
          "name": "stdout",
          "text": [
            "Collecting igraph\n",
            "  Downloading igraph-0.11.3-cp39-abi3-manylinux_2_17_x86_64.manylinux2014_x86_64.whl (3.3 MB)\n",
            "\u001b[2K     \u001b[90m━━━━━━━━━━━━━━━━━━━━━━━━━━━━━━━━━━━━━━━━\u001b[0m \u001b[32m3.3/3.3 MB\u001b[0m \u001b[31m13.9 MB/s\u001b[0m eta \u001b[36m0:00:00\u001b[0m\n",
            "\u001b[?25hCollecting texttable>=1.6.2 (from igraph)\n",
            "  Downloading texttable-1.7.0-py2.py3-none-any.whl (10 kB)\n",
            "Installing collected packages: texttable, igraph\n",
            "Successfully installed igraph-0.11.3 texttable-1.7.0\n"
          ]
        }
      ]
    },
    {
      "cell_type": "code",
      "execution_count": null,
      "metadata": {
        "id": "0621tJfPGVfd"
      },
      "outputs": [],
      "source": [
        "import igraph as ig\n",
        "\n",
        "# Create a graph\n",
        "g = ig.Graph()\n",
        "g.add_vertices(3)\n",
        "g.add_edges([(0, 1), (1, 2)])\n",
        "\n",
        "# Visualize the graph\n",
        "ig.plot(g, bbox=(300, 300))\n"
      ]
    },
    {
      "cell_type": "code",
      "source": [
        "from graph_tool.all import *\n",
        "\n",
        "# Create a graph\n",
        "g = Graph(directed=False)\n",
        "v1 = g.add_vertex()\n",
        "v2 = g.add_vertex()\n",
        "e = g.add_edge(v1, v2)\n",
        "\n",
        "# Visualize the graph\n",
        "graph_draw(g, vertex_text=g.vertex_index, output_size=(200, 200), output=\"graph.png\")\n"
      ],
      "metadata": {
        "id": "5O4JpSdejOjD"
      },
      "execution_count": null,
      "outputs": []
    },
    {
      "cell_type": "code",
      "source": [
        "!pip install pygsp"
      ],
      "metadata": {
        "id": "AXEBYZBxjxu4"
      },
      "execution_count": null,
      "outputs": []
    },
    {
      "cell_type": "code",
      "source": [
        "from pygsp import graphs, plotting\n",
        "\n",
        "# Create a graph (e.g., a sensor network graph)\n",
        "G = graphs.Sensor(30)\n",
        "\n",
        "# Visualize the graph\n",
        "plotting.plot_graph(G)\n"
      ],
      "metadata": {
        "id": "9j-vaRRpjuPO"
      },
      "execution_count": null,
      "outputs": []
    },
    {
      "cell_type": "code",
      "source": [
        "!pip install geopy folium\n"
      ],
      "metadata": {
        "colab": {
          "base_uri": "https://localhost:8080/"
        },
        "id": "Lvr6pY-q1DdG",
        "outputId": "dbfc0094-dfa3-466e-fd38-f33932d404f5"
      },
      "execution_count": null,
      "outputs": [
        {
          "output_type": "stream",
          "name": "stdout",
          "text": [
            "Requirement already satisfied: geopy in /usr/local/lib/python3.10/dist-packages (2.3.0)\n",
            "Requirement already satisfied: folium in /usr/local/lib/python3.10/dist-packages (0.14.0)\n",
            "Requirement already satisfied: geographiclib<3,>=1.52 in /usr/local/lib/python3.10/dist-packages (from geopy) (2.0)\n",
            "Requirement already satisfied: branca>=0.6.0 in /usr/local/lib/python3.10/dist-packages (from folium) (0.7.0)\n",
            "Requirement already satisfied: jinja2>=2.9 in /usr/local/lib/python3.10/dist-packages (from folium) (3.1.2)\n",
            "Requirement already satisfied: numpy in /usr/local/lib/python3.10/dist-packages (from folium) (1.23.5)\n",
            "Requirement already satisfied: requests in /usr/local/lib/python3.10/dist-packages (from folium) (2.31.0)\n",
            "Requirement already satisfied: MarkupSafe>=2.0 in /usr/local/lib/python3.10/dist-packages (from jinja2>=2.9->folium) (2.1.3)\n",
            "Requirement already satisfied: charset-normalizer<4,>=2 in /usr/local/lib/python3.10/dist-packages (from requests->folium) (3.3.2)\n",
            "Requirement already satisfied: idna<4,>=2.5 in /usr/local/lib/python3.10/dist-packages (from requests->folium) (3.6)\n",
            "Requirement already satisfied: urllib3<3,>=1.21.1 in /usr/local/lib/python3.10/dist-packages (from requests->folium) (2.0.7)\n",
            "Requirement already satisfied: certifi>=2017.4.17 in /usr/local/lib/python3.10/dist-packages (from requests->folium) (2023.11.17)\n"
          ]
        }
      ]
    },
    {
      "cell_type": "code",
      "source": [
        "from geopy.geocoders import Nominatim\n",
        "import folium\n",
        "\n",
        "# Initialize geolocator\n",
        "geolocator = Nominatim(user_agent=\"gps_notebook\")\n",
        "\n",
        "# Example: Geocoding (Address to Coordinates)\n",
        "location = geolocator.geocode(\"Statue of Liberty, New York\")\n",
        "print(\"Coordinates of Statue of Liberty:\", (location.latitude, location.longitude))\n",
        "\n",
        "# Example: Reverse Geocoding (Coordinates to Address)\n",
        "coordinates = (40.689247, -74.044502)\n",
        "address = geolocator.reverse(coordinates)\n",
        "print(\"Address at coordinates (40.689247, -74.044502):\", address.address)\n",
        "\n",
        "# Example: Visualizing GPS Data on Map with Folium\n",
        "map_center = (location.latitude, location.longitude)\n",
        "map_gps = folium.Map(location=map_center, zoom_start=15)\n",
        "\n",
        "# Add a marker for Statue of Liberty\n",
        "folium.Marker(location=[location.latitude, location.longitude], popup=\"Statue of Liberty\").add_to(map_gps)\n",
        "\n",
        "# Add a circle marker for a specific coordinate\n",
        "folium.CircleMarker(location=coordinates, radius=8, color='red', fill=True, fill_color='red', popup=\"Marker\").add_to(map_gps)\n",
        "\n",
        "# Display the map\n",
        "map_gps\n"
      ],
      "metadata": {
        "colab": {
          "base_uri": "https://localhost:8080/",
          "height": 800
        },
        "id": "vOYwBvSA1Glg",
        "outputId": "b9ce6e78-20fc-43d1-ad7c-a7e86e1fa325"
      },
      "execution_count": null,
      "outputs": [
        {
          "output_type": "stream",
          "name": "stdout",
          "text": [
            "Coordinates of Statue of Liberty: (40.689253199999996, -74.04454817144321)\n",
            "Address at coordinates (40.689247, -74.044502): Flagpole Plaza, Manhattan Community Board 1, Manhattan, New York County, City of New York, New York, 07302, United States\n"
          ]
        },
        {
          "output_type": "execute_result",
          "data": {
            "text/plain": [
              "<folium.folium.Map at 0x7ac364db6cb0>"
            ],
            "text/html": [
              "<div style=\"width:100%;\"><div style=\"position:relative;width:100%;height:0;padding-bottom:60%;\"><span style=\"color:#565656\">Make this Notebook Trusted to load map: File -> Trust Notebook</span><iframe srcdoc=\"&lt;!DOCTYPE html&gt;\n",
              "&lt;html&gt;\n",
              "&lt;head&gt;\n",
              "    \n",
              "    &lt;meta http-equiv=&quot;content-type&quot; content=&quot;text/html; charset=UTF-8&quot; /&gt;\n",
              "    \n",
              "        &lt;script&gt;\n",
              "            L_NO_TOUCH = false;\n",
              "            L_DISABLE_3D = false;\n",
              "        &lt;/script&gt;\n",
              "    \n",
              "    &lt;style&gt;html, body {width: 100%;height: 100%;margin: 0;padding: 0;}&lt;/style&gt;\n",
              "    &lt;style&gt;#map {position:absolute;top:0;bottom:0;right:0;left:0;}&lt;/style&gt;\n",
              "    &lt;script src=&quot;https://cdn.jsdelivr.net/npm/leaflet@1.9.3/dist/leaflet.js&quot;&gt;&lt;/script&gt;\n",
              "    &lt;script src=&quot;https://code.jquery.com/jquery-1.12.4.min.js&quot;&gt;&lt;/script&gt;\n",
              "    &lt;script src=&quot;https://cdn.jsdelivr.net/npm/bootstrap@5.2.2/dist/js/bootstrap.bundle.min.js&quot;&gt;&lt;/script&gt;\n",
              "    &lt;script src=&quot;https://cdnjs.cloudflare.com/ajax/libs/Leaflet.awesome-markers/2.0.2/leaflet.awesome-markers.js&quot;&gt;&lt;/script&gt;\n",
              "    &lt;link rel=&quot;stylesheet&quot; href=&quot;https://cdn.jsdelivr.net/npm/leaflet@1.9.3/dist/leaflet.css&quot;/&gt;\n",
              "    &lt;link rel=&quot;stylesheet&quot; href=&quot;https://cdn.jsdelivr.net/npm/bootstrap@5.2.2/dist/css/bootstrap.min.css&quot;/&gt;\n",
              "    &lt;link rel=&quot;stylesheet&quot; href=&quot;https://netdna.bootstrapcdn.com/bootstrap/3.0.0/css/bootstrap.min.css&quot;/&gt;\n",
              "    &lt;link rel=&quot;stylesheet&quot; href=&quot;https://cdn.jsdelivr.net/npm/@fortawesome/fontawesome-free@6.2.0/css/all.min.css&quot;/&gt;\n",
              "    &lt;link rel=&quot;stylesheet&quot; href=&quot;https://cdnjs.cloudflare.com/ajax/libs/Leaflet.awesome-markers/2.0.2/leaflet.awesome-markers.css&quot;/&gt;\n",
              "    &lt;link rel=&quot;stylesheet&quot; href=&quot;https://cdn.jsdelivr.net/gh/python-visualization/folium/folium/templates/leaflet.awesome.rotate.min.css&quot;/&gt;\n",
              "    \n",
              "            &lt;meta name=&quot;viewport&quot; content=&quot;width=device-width,\n",
              "                initial-scale=1.0, maximum-scale=1.0, user-scalable=no&quot; /&gt;\n",
              "            &lt;style&gt;\n",
              "                #map_f527b8358db26c993e912cb8658d43b5 {\n",
              "                    position: relative;\n",
              "                    width: 100.0%;\n",
              "                    height: 100.0%;\n",
              "                    left: 0.0%;\n",
              "                    top: 0.0%;\n",
              "                }\n",
              "                .leaflet-container { font-size: 1rem; }\n",
              "            &lt;/style&gt;\n",
              "        \n",
              "&lt;/head&gt;\n",
              "&lt;body&gt;\n",
              "    \n",
              "    \n",
              "            &lt;div class=&quot;folium-map&quot; id=&quot;map_f527b8358db26c993e912cb8658d43b5&quot; &gt;&lt;/div&gt;\n",
              "        \n",
              "&lt;/body&gt;\n",
              "&lt;script&gt;\n",
              "    \n",
              "    \n",
              "            var map_f527b8358db26c993e912cb8658d43b5 = L.map(\n",
              "                &quot;map_f527b8358db26c993e912cb8658d43b5&quot;,\n",
              "                {\n",
              "                    center: [40.689253199999996, -74.04454817144321],\n",
              "                    crs: L.CRS.EPSG3857,\n",
              "                    zoom: 15,\n",
              "                    zoomControl: true,\n",
              "                    preferCanvas: false,\n",
              "                }\n",
              "            );\n",
              "\n",
              "            \n",
              "\n",
              "        \n",
              "    \n",
              "            var tile_layer_fd801eb678098d669acbbab1f5f17432 = L.tileLayer(\n",
              "                &quot;https://{s}.tile.openstreetmap.org/{z}/{x}/{y}.png&quot;,\n",
              "                {&quot;attribution&quot;: &quot;Data by \\u0026copy; \\u003ca target=\\&quot;_blank\\&quot; href=\\&quot;http://openstreetmap.org\\&quot;\\u003eOpenStreetMap\\u003c/a\\u003e, under \\u003ca target=\\&quot;_blank\\&quot; href=\\&quot;http://www.openstreetmap.org/copyright\\&quot;\\u003eODbL\\u003c/a\\u003e.&quot;, &quot;detectRetina&quot;: false, &quot;maxNativeZoom&quot;: 18, &quot;maxZoom&quot;: 18, &quot;minZoom&quot;: 0, &quot;noWrap&quot;: false, &quot;opacity&quot;: 1, &quot;subdomains&quot;: &quot;abc&quot;, &quot;tms&quot;: false}\n",
              "            ).addTo(map_f527b8358db26c993e912cb8658d43b5);\n",
              "        \n",
              "    \n",
              "            var marker_da369f0a234d5ec1b0b7d215eb04c01f = L.marker(\n",
              "                [40.689253199999996, -74.04454817144321],\n",
              "                {}\n",
              "            ).addTo(map_f527b8358db26c993e912cb8658d43b5);\n",
              "        \n",
              "    \n",
              "        var popup_0079c79ba64b45cca3095975c028906a = L.popup({&quot;maxWidth&quot;: &quot;100%&quot;});\n",
              "\n",
              "        \n",
              "            \n",
              "                var html_792eafb17ba2e9e6eca73f2bacba1fd6 = $(`&lt;div id=&quot;html_792eafb17ba2e9e6eca73f2bacba1fd6&quot; style=&quot;width: 100.0%; height: 100.0%;&quot;&gt;Statue of Liberty&lt;/div&gt;`)[0];\n",
              "                popup_0079c79ba64b45cca3095975c028906a.setContent(html_792eafb17ba2e9e6eca73f2bacba1fd6);\n",
              "            \n",
              "        \n",
              "\n",
              "        marker_da369f0a234d5ec1b0b7d215eb04c01f.bindPopup(popup_0079c79ba64b45cca3095975c028906a)\n",
              "        ;\n",
              "\n",
              "        \n",
              "    \n",
              "    \n",
              "            var circle_marker_8cac0148346e0ec2dec2502f70a8bfdb = L.circleMarker(\n",
              "                [40.689247, -74.044502],\n",
              "                {&quot;bubblingMouseEvents&quot;: true, &quot;color&quot;: &quot;red&quot;, &quot;dashArray&quot;: null, &quot;dashOffset&quot;: null, &quot;fill&quot;: true, &quot;fillColor&quot;: &quot;red&quot;, &quot;fillOpacity&quot;: 0.2, &quot;fillRule&quot;: &quot;evenodd&quot;, &quot;lineCap&quot;: &quot;round&quot;, &quot;lineJoin&quot;: &quot;round&quot;, &quot;opacity&quot;: 1.0, &quot;radius&quot;: 8, &quot;stroke&quot;: true, &quot;weight&quot;: 3}\n",
              "            ).addTo(map_f527b8358db26c993e912cb8658d43b5);\n",
              "        \n",
              "    \n",
              "        var popup_ec29d975e14bbe715cf85de839f64012 = L.popup({&quot;maxWidth&quot;: &quot;100%&quot;});\n",
              "\n",
              "        \n",
              "            \n",
              "                var html_185972d2c9de9bea0f0fb69e80b455ef = $(`&lt;div id=&quot;html_185972d2c9de9bea0f0fb69e80b455ef&quot; style=&quot;width: 100.0%; height: 100.0%;&quot;&gt;Marker&lt;/div&gt;`)[0];\n",
              "                popup_ec29d975e14bbe715cf85de839f64012.setContent(html_185972d2c9de9bea0f0fb69e80b455ef);\n",
              "            \n",
              "        \n",
              "\n",
              "        circle_marker_8cac0148346e0ec2dec2502f70a8bfdb.bindPopup(popup_ec29d975e14bbe715cf85de839f64012)\n",
              "        ;\n",
              "\n",
              "        \n",
              "    \n",
              "&lt;/script&gt;\n",
              "&lt;/html&gt;\" style=\"position:absolute;width:100%;height:100%;left:0;top:0;border:none !important;\" allowfullscreen webkitallowfullscreen mozallowfullscreen></iframe></div></div>"
            ]
          },
          "metadata": {},
          "execution_count": 8
        }
      ]
    },
    {
      "cell_type": "code",
      "source": [
        "import folium\n",
        "from folium.plugins import HeatMap\n",
        "\n",
        "# Generate random GPS data for demonstration\n",
        "import numpy as np\n",
        "gps_data = np.random.normal(loc=[37.7749, -122.4194], scale=[0.02, 0.02], size=(100, 2))\n",
        "\n",
        "# Create a map\n",
        "map_center = [37.7749, -122.4194]\n",
        "map_gps_heatmap = folium.Map(location=map_center, zoom_start=13)\n",
        "\n",
        "# Add a heatmap layer\n",
        "HeatMap(data=gps_data).add_to(map_gps_heatmap)\n",
        "\n",
        "# Display the map\n",
        "map_gps_heatmap\n"
      ],
      "metadata": {
        "colab": {
          "base_uri": "https://localhost:8080/",
          "height": 746
        },
        "id": "4BlOcT101SUI",
        "outputId": "3958ba1a-1ab3-4f25-ba5f-033fa0a9c6b6"
      },
      "execution_count": null,
      "outputs": [
        {
          "output_type": "execute_result",
          "data": {
            "text/plain": [
              "<folium.folium.Map at 0x7ac364d570d0>"
            ],
            "text/html": [
              "<div style=\"width:100%;\"><div style=\"position:relative;width:100%;height:0;padding-bottom:60%;\"><span style=\"color:#565656\">Make this Notebook Trusted to load map: File -> Trust Notebook</span><iframe srcdoc=\"&lt;!DOCTYPE html&gt;\n",
              "&lt;html&gt;\n",
              "&lt;head&gt;\n",
              "    \n",
              "    &lt;meta http-equiv=&quot;content-type&quot; content=&quot;text/html; charset=UTF-8&quot; /&gt;\n",
              "    \n",
              "        &lt;script&gt;\n",
              "            L_NO_TOUCH = false;\n",
              "            L_DISABLE_3D = false;\n",
              "        &lt;/script&gt;\n",
              "    \n",
              "    &lt;style&gt;html, body {width: 100%;height: 100%;margin: 0;padding: 0;}&lt;/style&gt;\n",
              "    &lt;style&gt;#map {position:absolute;top:0;bottom:0;right:0;left:0;}&lt;/style&gt;\n",
              "    &lt;script src=&quot;https://cdn.jsdelivr.net/npm/leaflet@1.9.3/dist/leaflet.js&quot;&gt;&lt;/script&gt;\n",
              "    &lt;script src=&quot;https://code.jquery.com/jquery-1.12.4.min.js&quot;&gt;&lt;/script&gt;\n",
              "    &lt;script src=&quot;https://cdn.jsdelivr.net/npm/bootstrap@5.2.2/dist/js/bootstrap.bundle.min.js&quot;&gt;&lt;/script&gt;\n",
              "    &lt;script src=&quot;https://cdnjs.cloudflare.com/ajax/libs/Leaflet.awesome-markers/2.0.2/leaflet.awesome-markers.js&quot;&gt;&lt;/script&gt;\n",
              "    &lt;link rel=&quot;stylesheet&quot; href=&quot;https://cdn.jsdelivr.net/npm/leaflet@1.9.3/dist/leaflet.css&quot;/&gt;\n",
              "    &lt;link rel=&quot;stylesheet&quot; href=&quot;https://cdn.jsdelivr.net/npm/bootstrap@5.2.2/dist/css/bootstrap.min.css&quot;/&gt;\n",
              "    &lt;link rel=&quot;stylesheet&quot; href=&quot;https://netdna.bootstrapcdn.com/bootstrap/3.0.0/css/bootstrap.min.css&quot;/&gt;\n",
              "    &lt;link rel=&quot;stylesheet&quot; href=&quot;https://cdn.jsdelivr.net/npm/@fortawesome/fontawesome-free@6.2.0/css/all.min.css&quot;/&gt;\n",
              "    &lt;link rel=&quot;stylesheet&quot; href=&quot;https://cdnjs.cloudflare.com/ajax/libs/Leaflet.awesome-markers/2.0.2/leaflet.awesome-markers.css&quot;/&gt;\n",
              "    &lt;link rel=&quot;stylesheet&quot; href=&quot;https://cdn.jsdelivr.net/gh/python-visualization/folium/folium/templates/leaflet.awesome.rotate.min.css&quot;/&gt;\n",
              "    \n",
              "            &lt;meta name=&quot;viewport&quot; content=&quot;width=device-width,\n",
              "                initial-scale=1.0, maximum-scale=1.0, user-scalable=no&quot; /&gt;\n",
              "            &lt;style&gt;\n",
              "                #map_33cf0cd75fab7a9345b3cf66fd60b8e5 {\n",
              "                    position: relative;\n",
              "                    width: 100.0%;\n",
              "                    height: 100.0%;\n",
              "                    left: 0.0%;\n",
              "                    top: 0.0%;\n",
              "                }\n",
              "                .leaflet-container { font-size: 1rem; }\n",
              "            &lt;/style&gt;\n",
              "        \n",
              "    &lt;script src=&quot;https://cdn.jsdelivr.net/gh/python-visualization/folium@main/folium/templates/leaflet_heat.min.js&quot;&gt;&lt;/script&gt;\n",
              "&lt;/head&gt;\n",
              "&lt;body&gt;\n",
              "    \n",
              "    \n",
              "            &lt;div class=&quot;folium-map&quot; id=&quot;map_33cf0cd75fab7a9345b3cf66fd60b8e5&quot; &gt;&lt;/div&gt;\n",
              "        \n",
              "&lt;/body&gt;\n",
              "&lt;script&gt;\n",
              "    \n",
              "    \n",
              "            var map_33cf0cd75fab7a9345b3cf66fd60b8e5 = L.map(\n",
              "                &quot;map_33cf0cd75fab7a9345b3cf66fd60b8e5&quot;,\n",
              "                {\n",
              "                    center: [37.7749, -122.4194],\n",
              "                    crs: L.CRS.EPSG3857,\n",
              "                    zoom: 13,\n",
              "                    zoomControl: true,\n",
              "                    preferCanvas: false,\n",
              "                }\n",
              "            );\n",
              "\n",
              "            \n",
              "\n",
              "        \n",
              "    \n",
              "            var tile_layer_7320f8f5877ec6eda49d0e9e8962d064 = L.tileLayer(\n",
              "                &quot;https://{s}.tile.openstreetmap.org/{z}/{x}/{y}.png&quot;,\n",
              "                {&quot;attribution&quot;: &quot;Data by \\u0026copy; \\u003ca target=\\&quot;_blank\\&quot; href=\\&quot;http://openstreetmap.org\\&quot;\\u003eOpenStreetMap\\u003c/a\\u003e, under \\u003ca target=\\&quot;_blank\\&quot; href=\\&quot;http://www.openstreetmap.org/copyright\\&quot;\\u003eODbL\\u003c/a\\u003e.&quot;, &quot;detectRetina&quot;: false, &quot;maxNativeZoom&quot;: 18, &quot;maxZoom&quot;: 18, &quot;minZoom&quot;: 0, &quot;noWrap&quot;: false, &quot;opacity&quot;: 1, &quot;subdomains&quot;: &quot;abc&quot;, &quot;tms&quot;: false}\n",
              "            ).addTo(map_33cf0cd75fab7a9345b3cf66fd60b8e5);\n",
              "        \n",
              "    \n",
              "            var heat_map_549a5d4c64c336e309e286101363da82 = L.heatLayer(\n",
              "                [[37.783062383593546, -122.42562212209809], [37.777957885838184, -122.4214900469386], [37.74960130787288, -122.4320887863876], [37.72813265164127, -122.42874143059333], [37.757567173853786, -122.47903004704933], [37.80179649882888, -122.40834029128028], [37.767769657059326, -122.40100276575214], [37.74204147220097, -122.42978556009577], [37.74823757687821, -122.42565578462508], [37.78022546520088, -122.44158606997999], [37.80144903961787, -122.40903574875372], [37.77736864417367, -122.40666704551656], [37.79481546188014, -122.3837303550065], [37.80117186792291, -122.39559046677482], [37.797049405094526, -122.43382081703804], [37.7902450487996, -122.39073028946456], [37.79868732111051, -122.38731621465998], [37.76235579332358, -122.41894475236778], [37.76428414704907, -122.3945676425178], [37.77471975011291, -122.40978407469862], [37.75739393716864, -122.41959775520266], [37.82028237320537, -122.412121472369], [37.76262997635623, -122.42638347282269], [37.75049091145475, -122.43604368125945], [37.7649638163254, -122.40994455130644], [37.78738295095788, -122.45567991676975], [37.75441508929775, -122.42802892626322], [37.79482050653502, -122.41662854052018], [37.726155141833715, -122.44020160894003], [37.79566223303165, -122.42596421787871], [37.765445808775844, -122.38755731317558], [37.74847657368145, -122.41145759390564], [37.777308133041814, -122.39096273202006], [37.76167499333081, -122.40335765512619], [37.73623350351242, -122.4466937743635], [37.804887106307255, -122.42106879689966], [37.77606098968356, -122.42458256215784], [37.79429378083617, -122.45111027165242], [37.76859192606291, -122.46736582799133], [37.809080609196506, -122.39902328520093], [37.789356321195, -122.43864596547262], [37.80579394637317, -122.46290947770723], [37.809361728856146, -122.39131023217193], [37.76360688207388, -122.39607445749687], [37.78484929180583, -122.43134133916288], [37.78631518131013, -122.45989620098133], [37.77132876081381, -122.4483847205559], [37.79524184740814, -122.42395455396121], [37.77613760359365, -122.44204008238994], [37.79229486055762, -122.41649684360743], [37.75344335112751, -122.42047371844986], [37.79103357191476, -122.4054591164444], [37.76321918617444, -122.44063424647149], [37.7715637337859, -122.4632687682406], [37.77511077475426, -122.44985194071597], [37.74371620821498, -122.38157493706969], [37.79693826694517, -122.42005546190522], [37.78614512553943, -122.37096505051484], [37.7842590353299, -122.41426753073812], [37.759679405233506, -122.4200263639711], [37.7301808448091, -122.42974706820613], [37.777340530541835, -122.41933421852872], [37.800872398646824, -122.41768061903467], [37.75890450514647, -122.4350082593762], [37.771673091872074, -122.40399795042232], [37.81134856610217, -122.44715785985252], [37.793320396012064, -122.41784501137714], [37.75713552489817, -122.40066394962884], [37.77536144032352, -122.42109648238247], [37.78645102490478, -122.42046905293363], [37.78340053775389, -122.40330320743051], [37.753009227126135, -122.4543820143144], [37.770038254679456, -122.39660800664815], [37.77865529871735, -122.45866118887693], [37.76752698091899, -122.4002676193336], [37.78615783969839, -122.3905254859031], [37.753055690217394, -122.40540946995864], [37.74763010999674, -122.41860145302113], [37.790564085700794, -122.40824418276026], [37.78123474321252, -122.41558154212508], [37.7871840452777, -122.43277305824436], [37.78391830073421, -122.38861465475475], [37.73398007452981, -122.40978509215574], [37.769063596484244, -122.39251266375749], [37.786790993453415, -122.42952343068916], [37.77568746296336, -122.41906608838707], [37.78582374610797, -122.39728564053571], [37.74966902634561, -122.41389286688317], [37.75280484034614, -122.3920260333004], [37.80187657842833, -122.4326135109502], [37.787997745717774, -122.40784865984153], [37.77646817057547, -122.42849248369194], [37.79063347854222, -122.42712469813198], [37.770733405301904, -122.40185319939665], [37.75947790636163, -122.43053428314714], [37.7972479829232, -122.43427943834956], [37.74137779985147, -122.44875472647712], [37.7715130612287, -122.44965912985], [37.780208999606124, -122.43259201120779], [37.76787732681193, -122.4357161090664]],\n",
              "                {&quot;blur&quot;: 15, &quot;maxZoom&quot;: 18, &quot;minOpacity&quot;: 0.5, &quot;radius&quot;: 25}\n",
              "            ).addTo(map_33cf0cd75fab7a9345b3cf66fd60b8e5);\n",
              "        \n",
              "&lt;/script&gt;\n",
              "&lt;/html&gt;\" style=\"position:absolute;width:100%;height:100%;left:0;top:0;border:none !important;\" allowfullscreen webkitallowfullscreen mozallowfullscreen></iframe></div></div>"
            ]
          },
          "metadata": {},
          "execution_count": 9
        }
      ]
    },
    {
      "cell_type": "code",
      "source": [
        "!pip install plotly"
      ],
      "metadata": {
        "id": "BP48P_0q1YE0",
        "colab": {
          "base_uri": "https://localhost:8080/"
        },
        "outputId": "789d6d3c-02b1-4ebd-c22b-2c19663b4cb2"
      },
      "execution_count": 1,
      "outputs": [
        {
          "output_type": "stream",
          "name": "stdout",
          "text": [
            "Requirement already satisfied: plotly in /usr/local/lib/python3.10/dist-packages (5.15.0)\n",
            "Requirement already satisfied: tenacity>=6.2.0 in /usr/local/lib/python3.10/dist-packages (from plotly) (8.2.3)\n",
            "Requirement already satisfied: packaging in /usr/local/lib/python3.10/dist-packages (from plotly) (23.2)\n"
          ]
        }
      ]
    },
    {
      "cell_type": "code",
      "source": [
        "import plotly.express as px\n",
        "import pandas as pd\n",
        "import numpy as np\n",
        "\n",
        "# Generate random GPS data with elevation for demonstration\n",
        "np.random.seed(42)\n",
        "num_points = 100\n",
        "gps_data = pd.DataFrame({\n",
        "    'latitude': np.random.uniform(37.75, 37.78, num_points),\n",
        "    'longitude': np.random.uniform(-122.42, -122.4, num_points),\n",
        "    'elevation': np.random.uniform(0, 100, num_points)\n",
        "})\n",
        "\n",
        "# Create a 3D scatter plot\n",
        "fig = px.scatter_3d(gps_data, x='longitude', y='latitude', z='elevation',\n",
        "                    title='3D Scatter Plot of GPS Data with Elevation',\n",
        "                    labels={'longitude': 'Longitude', 'latitude': 'Latitude', 'elevation': 'Elevation'})\n",
        "\n",
        "# Show the plot\n",
        "fig.show()"
      ],
      "metadata": {
        "colab": {
          "base_uri": "https://localhost:8080/",
          "height": 542
        },
        "id": "6jv_V6mor41T",
        "outputId": "6d63c90a-e6c9-4ddc-be43-75956dade0d5"
      },
      "execution_count": 2,
      "outputs": [
        {
          "output_type": "display_data",
          "data": {
            "text/html": [
              "<html>\n",
              "<head><meta charset=\"utf-8\" /></head>\n",
              "<body>\n",
              "    <div>            <script src=\"https://cdnjs.cloudflare.com/ajax/libs/mathjax/2.7.5/MathJax.js?config=TeX-AMS-MML_SVG\"></script><script type=\"text/javascript\">if (window.MathJax && window.MathJax.Hub && window.MathJax.Hub.Config) {window.MathJax.Hub.Config({SVG: {font: \"STIX-Web\"}});}</script>                <script type=\"text/javascript\">window.PlotlyConfig = {MathJaxConfig: 'local'};</script>\n",
              "        <script charset=\"utf-8\" src=\"https://cdn.plot.ly/plotly-2.24.1.min.js\"></script>                <div id=\"e5928ebd-0548-4882-a9dc-49d7e4b71c0c\" class=\"plotly-graph-div\" style=\"height:525px; width:100%;\"></div>            <script type=\"text/javascript\">                                    window.PLOTLYENV=window.PLOTLYENV || {};                                    if (document.getElementById(\"e5928ebd-0548-4882-a9dc-49d7e4b71c0c\")) {                    Plotly.newPlot(                        \"e5928ebd-0548-4882-a9dc-49d7e4b71c0c\",                        [{\"hovertemplate\":\"Longitude=%{x}\\u003cbr\\u003eLatitude=%{y}\\u003cbr\\u003eElevation=%{z}\\u003cextra\\u003e\\u003c\\u002fextra\\u003e\",\"legendgroup\":\"\",\"marker\":{\"color\":\"#636efa\",\"symbol\":\"circle\"},\"mode\":\"markers\",\"name\":\"\",\"scene\":\"scene\",\"showlegend\":false,\"x\":[-122.41937141628627,-122.40727179177473,-122.41371288037848,-122.40982858617672,-122.40184867052149,-122.41501415541703,-122.4117923415393,-122.40488897722915,-122.41542403669017,-122.41846040180343,-122.41420497094173,-122.41677557425493,-122.40140604695316,-122.40383759240872,-122.4073319248698,-122.40257078819626,-122.40392655846202,-122.41626859882228,-122.4021488200302,-122.4092131551617,-122.40385119689672,-122.40207817400153,-122.41363993050057,-122.41779896150945,-122.41544129674917,-122.41145784422748,-122.40363970468155,-122.40278538833488,-122.41986095738937,-122.40978505394845,-122.41165177993703,-122.4155578437906,-122.41760269265333,-122.41324769657193,-122.40114180592175,-122.41353594135958,-122.40962418756514,-122.4059396208221,-122.41272740795242,-122.40056435834559,-122.40075105410116,-122.4149643540835,-122.41005502988216,-122.41398243380367,-122.41430319011245,-122.4192622610529,-122.4078087133204,-122.40994641953543,-122.418970424975,-122.41442707071528,-122.40183468228068,-122.41520876218667,-122.41710210255818,-122.41021094479446,-122.40028699091779,-122.41515889456977,-122.40655728905189,-122.40476760769343,-122.41524724912016,-122.40543567302777,-122.41264433734561,-122.40735388338813,-122.4073294057848,-122.40928450631851,-122.41819420459892,-122.40329395008823,-122.41358439870056,-122.41626962979201,-122.41918449716891,-122.40818214113624,-122.40644871276317,-122.41966824342144,-122.40975813883402,-122.41547008449605,-122.40709654419182,-122.41651267141991,-122.40618124523796,-122.41226529307399,-122.40126540022527,-122.41724958111708,-122.413178672979,-122.4177305295752,-122.40150612763443,-122.40245321293239,-122.4148411674457,-122.40680031907932,-122.40365555599598,-122.40889598376802,-122.40940698843288,-122.415162954182,-122.41813794464389,-122.40205568484095,-122.40199163885674,-122.40733797085454,-122.41321940417903,-122.41301580850775,-122.4054808864226,-122.40205779480095,-122.4022582715147,-122.40440248908286],\"y\":[37.761236203565424,37.778521429192295,37.771959818254345,37.76795975452591,37.75468055921327,37.754679835610084,37.75174250836505,37.77598528437325,37.7680334503523,37.77124217733388,37.750617534828876,37.77909729556486,37.774973279224014,37.75637017332035,37.75545474901622,37.7555021352956,37.75912726728879,37.76574269294897,37.762958350559266,37.758736874205944,37.76835558684167,37.75418481581956,37.75876433945606,37.760990855298814,37.76368209952651,37.77355527884179,37.75599021346475,37.765427033152406,37.767772437065865,37.7513935123816,37.768226345557046,37.75511572371062,37.75195154778956,37.7784665661176,37.77896896099224,37.7742519204435,37.7591384130752,37.75293016342019,37.77052699079537,37.763204574812185,37.75366114704534,37.764855307303336,37.751031655633454,37.777279612062365,37.757763399448,37.769875668530624,37.759351332282684,37.765602040635336,37.766401308380296,37.75554563366577,37.77908753883294,37.77325398470084,37.778184968246926,37.77684482051283,37.76793699936433,37.77765622705069,37.75265477506156,37.755879485872576,37.75135681866732,37.7597599099229,37.76166031869069,37.758140470953215,37.77486212527456,37.76070259980081,37.75842803529062,37.76628088249475,37.75422772674924,37.774065909422625,37.752236519310394,37.779606608098014,37.7731673430789,37.755961470446024,37.750165663513705,37.77446384285365,37.77120572031543,37.77187021504123,37.77313811040058,37.75222133955202,37.76075397185633,37.753476071785755,37.775893102776266,37.76869894380483,37.75992694074558,37.75190675050858,37.75932946965147,37.759755499660805,37.77188818535014,37.769126724140655,37.77661638227729,37.76416644775486,37.75358782737815,37.77139734361669,37.77282355145851,37.76683831592709,37.77312901539864,37.76481386789093,37.76568198488146,37.76282623055076,37.75076257380232,37.7532367428098],\"z\":[64.20316461542878,8.413996499504883,16.162871409461378,89.85541885270793,60.642905965958995,0.9197051616629648,10.147154286603211,66.35017691080559,0.5061583846218687,16.080805141749867,54.87337893665861,69.18951976926932,65.19612595026005,22.42693094605598,71.2179221347536,23.724908749680008,32.539969815926774,74.64914051180241,64.96328990472146,84.9223410494178,65.76128923003434,56.830860333547164,9.367476782809248,36.77158030594335,26.520236768172545,24.398964337908357,97.30105547524455,39.30977246667604,89.20465551771133,63.11386259972629,79.48113035416485,50.26370931051921,57.69038846263591,49.25176938188639,19.52429877980445,72.24521152615053,28.07723624408558,2.431596643145384,64.54722959071678,17.711067940704893,94.04585843529144,95.39285770025873,91.48643902204485,37.01587002554444,1.5456616528867428,92.83185625877253,42.81841483173143,96.66548190436696,96.36199770892529,85.300945546736,29.444889206958567,38.50977286019253,85.11366715168569,31.692200515627768,16.94927466860925,55.68012624583501,93.6154774160781,69.6029796674973,57.0061170089365,9.717649377076853,61.500722669916975,99.00538501042632,14.008401523652402,51.832965236373674,87.73730719279554,74.07686177542044,69.7015740995268,70.24840839871092,35.94911512197552,29.359184426449335,80.93611554785136,81.01133946791808,86.70723185801037,91.32405525564712,51.13423988609378,50.15162946871996,79.82951789667752,64.99639307777652,70.19668772577033,79.57926694361011,89.00053418175663,33.79951568515358,37.5582952639944,9.3981939840869,57.8280140996174,3.5942273796742086,46.55980181324602,54.26446347075766,28.65412521282844,59.08332605690107,3.050024993904943,3.7348188749214417,82.26005606596583,36.019064141126286,12.706051265188478,52.224326005480435,76.99935530986109,21.582102749684317,62.28904758190003,8.5347464993768],\"type\":\"scatter3d\"}],                        {\"template\":{\"data\":{\"histogram2dcontour\":[{\"type\":\"histogram2dcontour\",\"colorbar\":{\"outlinewidth\":0,\"ticks\":\"\"},\"colorscale\":[[0.0,\"#0d0887\"],[0.1111111111111111,\"#46039f\"],[0.2222222222222222,\"#7201a8\"],[0.3333333333333333,\"#9c179e\"],[0.4444444444444444,\"#bd3786\"],[0.5555555555555556,\"#d8576b\"],[0.6666666666666666,\"#ed7953\"],[0.7777777777777778,\"#fb9f3a\"],[0.8888888888888888,\"#fdca26\"],[1.0,\"#f0f921\"]]}],\"choropleth\":[{\"type\":\"choropleth\",\"colorbar\":{\"outlinewidth\":0,\"ticks\":\"\"}}],\"histogram2d\":[{\"type\":\"histogram2d\",\"colorbar\":{\"outlinewidth\":0,\"ticks\":\"\"},\"colorscale\":[[0.0,\"#0d0887\"],[0.1111111111111111,\"#46039f\"],[0.2222222222222222,\"#7201a8\"],[0.3333333333333333,\"#9c179e\"],[0.4444444444444444,\"#bd3786\"],[0.5555555555555556,\"#d8576b\"],[0.6666666666666666,\"#ed7953\"],[0.7777777777777778,\"#fb9f3a\"],[0.8888888888888888,\"#fdca26\"],[1.0,\"#f0f921\"]]}],\"heatmap\":[{\"type\":\"heatmap\",\"colorbar\":{\"outlinewidth\":0,\"ticks\":\"\"},\"colorscale\":[[0.0,\"#0d0887\"],[0.1111111111111111,\"#46039f\"],[0.2222222222222222,\"#7201a8\"],[0.3333333333333333,\"#9c179e\"],[0.4444444444444444,\"#bd3786\"],[0.5555555555555556,\"#d8576b\"],[0.6666666666666666,\"#ed7953\"],[0.7777777777777778,\"#fb9f3a\"],[0.8888888888888888,\"#fdca26\"],[1.0,\"#f0f921\"]]}],\"heatmapgl\":[{\"type\":\"heatmapgl\",\"colorbar\":{\"outlinewidth\":0,\"ticks\":\"\"},\"colorscale\":[[0.0,\"#0d0887\"],[0.1111111111111111,\"#46039f\"],[0.2222222222222222,\"#7201a8\"],[0.3333333333333333,\"#9c179e\"],[0.4444444444444444,\"#bd3786\"],[0.5555555555555556,\"#d8576b\"],[0.6666666666666666,\"#ed7953\"],[0.7777777777777778,\"#fb9f3a\"],[0.8888888888888888,\"#fdca26\"],[1.0,\"#f0f921\"]]}],\"contourcarpet\":[{\"type\":\"contourcarpet\",\"colorbar\":{\"outlinewidth\":0,\"ticks\":\"\"}}],\"contour\":[{\"type\":\"contour\",\"colorbar\":{\"outlinewidth\":0,\"ticks\":\"\"},\"colorscale\":[[0.0,\"#0d0887\"],[0.1111111111111111,\"#46039f\"],[0.2222222222222222,\"#7201a8\"],[0.3333333333333333,\"#9c179e\"],[0.4444444444444444,\"#bd3786\"],[0.5555555555555556,\"#d8576b\"],[0.6666666666666666,\"#ed7953\"],[0.7777777777777778,\"#fb9f3a\"],[0.8888888888888888,\"#fdca26\"],[1.0,\"#f0f921\"]]}],\"surface\":[{\"type\":\"surface\",\"colorbar\":{\"outlinewidth\":0,\"ticks\":\"\"},\"colorscale\":[[0.0,\"#0d0887\"],[0.1111111111111111,\"#46039f\"],[0.2222222222222222,\"#7201a8\"],[0.3333333333333333,\"#9c179e\"],[0.4444444444444444,\"#bd3786\"],[0.5555555555555556,\"#d8576b\"],[0.6666666666666666,\"#ed7953\"],[0.7777777777777778,\"#fb9f3a\"],[0.8888888888888888,\"#fdca26\"],[1.0,\"#f0f921\"]]}],\"mesh3d\":[{\"type\":\"mesh3d\",\"colorbar\":{\"outlinewidth\":0,\"ticks\":\"\"}}],\"scatter\":[{\"fillpattern\":{\"fillmode\":\"overlay\",\"size\":10,\"solidity\":0.2},\"type\":\"scatter\"}],\"parcoords\":[{\"type\":\"parcoords\",\"line\":{\"colorbar\":{\"outlinewidth\":0,\"ticks\":\"\"}}}],\"scatterpolargl\":[{\"type\":\"scatterpolargl\",\"marker\":{\"colorbar\":{\"outlinewidth\":0,\"ticks\":\"\"}}}],\"bar\":[{\"error_x\":{\"color\":\"#2a3f5f\"},\"error_y\":{\"color\":\"#2a3f5f\"},\"marker\":{\"line\":{\"color\":\"#E5ECF6\",\"width\":0.5},\"pattern\":{\"fillmode\":\"overlay\",\"size\":10,\"solidity\":0.2}},\"type\":\"bar\"}],\"scattergeo\":[{\"type\":\"scattergeo\",\"marker\":{\"colorbar\":{\"outlinewidth\":0,\"ticks\":\"\"}}}],\"scatterpolar\":[{\"type\":\"scatterpolar\",\"marker\":{\"colorbar\":{\"outlinewidth\":0,\"ticks\":\"\"}}}],\"histogram\":[{\"marker\":{\"pattern\":{\"fillmode\":\"overlay\",\"size\":10,\"solidity\":0.2}},\"type\":\"histogram\"}],\"scattergl\":[{\"type\":\"scattergl\",\"marker\":{\"colorbar\":{\"outlinewidth\":0,\"ticks\":\"\"}}}],\"scatter3d\":[{\"type\":\"scatter3d\",\"line\":{\"colorbar\":{\"outlinewidth\":0,\"ticks\":\"\"}},\"marker\":{\"colorbar\":{\"outlinewidth\":0,\"ticks\":\"\"}}}],\"scattermapbox\":[{\"type\":\"scattermapbox\",\"marker\":{\"colorbar\":{\"outlinewidth\":0,\"ticks\":\"\"}}}],\"scatterternary\":[{\"type\":\"scatterternary\",\"marker\":{\"colorbar\":{\"outlinewidth\":0,\"ticks\":\"\"}}}],\"scattercarpet\":[{\"type\":\"scattercarpet\",\"marker\":{\"colorbar\":{\"outlinewidth\":0,\"ticks\":\"\"}}}],\"carpet\":[{\"aaxis\":{\"endlinecolor\":\"#2a3f5f\",\"gridcolor\":\"white\",\"linecolor\":\"white\",\"minorgridcolor\":\"white\",\"startlinecolor\":\"#2a3f5f\"},\"baxis\":{\"endlinecolor\":\"#2a3f5f\",\"gridcolor\":\"white\",\"linecolor\":\"white\",\"minorgridcolor\":\"white\",\"startlinecolor\":\"#2a3f5f\"},\"type\":\"carpet\"}],\"table\":[{\"cells\":{\"fill\":{\"color\":\"#EBF0F8\"},\"line\":{\"color\":\"white\"}},\"header\":{\"fill\":{\"color\":\"#C8D4E3\"},\"line\":{\"color\":\"white\"}},\"type\":\"table\"}],\"barpolar\":[{\"marker\":{\"line\":{\"color\":\"#E5ECF6\",\"width\":0.5},\"pattern\":{\"fillmode\":\"overlay\",\"size\":10,\"solidity\":0.2}},\"type\":\"barpolar\"}],\"pie\":[{\"automargin\":true,\"type\":\"pie\"}]},\"layout\":{\"autotypenumbers\":\"strict\",\"colorway\":[\"#636efa\",\"#EF553B\",\"#00cc96\",\"#ab63fa\",\"#FFA15A\",\"#19d3f3\",\"#FF6692\",\"#B6E880\",\"#FF97FF\",\"#FECB52\"],\"font\":{\"color\":\"#2a3f5f\"},\"hovermode\":\"closest\",\"hoverlabel\":{\"align\":\"left\"},\"paper_bgcolor\":\"white\",\"plot_bgcolor\":\"#E5ECF6\",\"polar\":{\"bgcolor\":\"#E5ECF6\",\"angularaxis\":{\"gridcolor\":\"white\",\"linecolor\":\"white\",\"ticks\":\"\"},\"radialaxis\":{\"gridcolor\":\"white\",\"linecolor\":\"white\",\"ticks\":\"\"}},\"ternary\":{\"bgcolor\":\"#E5ECF6\",\"aaxis\":{\"gridcolor\":\"white\",\"linecolor\":\"white\",\"ticks\":\"\"},\"baxis\":{\"gridcolor\":\"white\",\"linecolor\":\"white\",\"ticks\":\"\"},\"caxis\":{\"gridcolor\":\"white\",\"linecolor\":\"white\",\"ticks\":\"\"}},\"coloraxis\":{\"colorbar\":{\"outlinewidth\":0,\"ticks\":\"\"}},\"colorscale\":{\"sequential\":[[0.0,\"#0d0887\"],[0.1111111111111111,\"#46039f\"],[0.2222222222222222,\"#7201a8\"],[0.3333333333333333,\"#9c179e\"],[0.4444444444444444,\"#bd3786\"],[0.5555555555555556,\"#d8576b\"],[0.6666666666666666,\"#ed7953\"],[0.7777777777777778,\"#fb9f3a\"],[0.8888888888888888,\"#fdca26\"],[1.0,\"#f0f921\"]],\"sequentialminus\":[[0.0,\"#0d0887\"],[0.1111111111111111,\"#46039f\"],[0.2222222222222222,\"#7201a8\"],[0.3333333333333333,\"#9c179e\"],[0.4444444444444444,\"#bd3786\"],[0.5555555555555556,\"#d8576b\"],[0.6666666666666666,\"#ed7953\"],[0.7777777777777778,\"#fb9f3a\"],[0.8888888888888888,\"#fdca26\"],[1.0,\"#f0f921\"]],\"diverging\":[[0,\"#8e0152\"],[0.1,\"#c51b7d\"],[0.2,\"#de77ae\"],[0.3,\"#f1b6da\"],[0.4,\"#fde0ef\"],[0.5,\"#f7f7f7\"],[0.6,\"#e6f5d0\"],[0.7,\"#b8e186\"],[0.8,\"#7fbc41\"],[0.9,\"#4d9221\"],[1,\"#276419\"]]},\"xaxis\":{\"gridcolor\":\"white\",\"linecolor\":\"white\",\"ticks\":\"\",\"title\":{\"standoff\":15},\"zerolinecolor\":\"white\",\"automargin\":true,\"zerolinewidth\":2},\"yaxis\":{\"gridcolor\":\"white\",\"linecolor\":\"white\",\"ticks\":\"\",\"title\":{\"standoff\":15},\"zerolinecolor\":\"white\",\"automargin\":true,\"zerolinewidth\":2},\"scene\":{\"xaxis\":{\"backgroundcolor\":\"#E5ECF6\",\"gridcolor\":\"white\",\"linecolor\":\"white\",\"showbackground\":true,\"ticks\":\"\",\"zerolinecolor\":\"white\",\"gridwidth\":2},\"yaxis\":{\"backgroundcolor\":\"#E5ECF6\",\"gridcolor\":\"white\",\"linecolor\":\"white\",\"showbackground\":true,\"ticks\":\"\",\"zerolinecolor\":\"white\",\"gridwidth\":2},\"zaxis\":{\"backgroundcolor\":\"#E5ECF6\",\"gridcolor\":\"white\",\"linecolor\":\"white\",\"showbackground\":true,\"ticks\":\"\",\"zerolinecolor\":\"white\",\"gridwidth\":2}},\"shapedefaults\":{\"line\":{\"color\":\"#2a3f5f\"}},\"annotationdefaults\":{\"arrowcolor\":\"#2a3f5f\",\"arrowhead\":0,\"arrowwidth\":1},\"geo\":{\"bgcolor\":\"white\",\"landcolor\":\"#E5ECF6\",\"subunitcolor\":\"white\",\"showland\":true,\"showlakes\":true,\"lakecolor\":\"white\"},\"title\":{\"x\":0.05},\"mapbox\":{\"style\":\"light\"}}},\"scene\":{\"domain\":{\"x\":[0.0,1.0],\"y\":[0.0,1.0]},\"xaxis\":{\"title\":{\"text\":\"Longitude\"}},\"yaxis\":{\"title\":{\"text\":\"Latitude\"}},\"zaxis\":{\"title\":{\"text\":\"Elevation\"}}},\"legend\":{\"tracegroupgap\":0},\"title\":{\"text\":\"3D Scatter Plot of GPS Data with Elevation\"}},                        {\"responsive\": true}                    ).then(function(){\n",
              "                            \n",
              "var gd = document.getElementById('e5928ebd-0548-4882-a9dc-49d7e4b71c0c');\n",
              "var x = new MutationObserver(function (mutations, observer) {{\n",
              "        var display = window.getComputedStyle(gd).display;\n",
              "        if (!display || display === 'none') {{\n",
              "            console.log([gd, 'removed!']);\n",
              "            Plotly.purge(gd);\n",
              "            observer.disconnect();\n",
              "        }}\n",
              "}});\n",
              "\n",
              "// Listen for the removal of the full notebook cells\n",
              "var notebookContainer = gd.closest('#notebook-container');\n",
              "if (notebookContainer) {{\n",
              "    x.observe(notebookContainer, {childList: true});\n",
              "}}\n",
              "\n",
              "// Listen for the clearing of the current output cell\n",
              "var outputEl = gd.closest('.output');\n",
              "if (outputEl) {{\n",
              "    x.observe(outputEl, {childList: true});\n",
              "}}\n",
              "\n",
              "                        })                };                            </script>        </div>\n",
              "</body>\n",
              "</html>"
            ]
          },
          "metadata": {}
        }
      ]
    },
    {
      "cell_type": "code",
      "source": [
        "import seaborn as sns\n",
        "import numpy as np\n",
        "\n",
        "# Generate random temperature data for demonstration\n",
        "np.random.seed(42)\n",
        "temperature_data = np.random.normal(loc=25, scale=5, size=1000)\n",
        "\n",
        "# Create a temperature distribution plot\n",
        "sns.histplot(temperature_data, kde=True, bins=30, color='skyblue')\n",
        "sns.despine()\n",
        "plt.title('Temperature Distribution')\n",
        "plt.xlabel('Temperature (°C)')\n",
        "plt.ylabel('Frequency')\n",
        "plt.show()"
      ],
      "metadata": {
        "colab": {
          "base_uri": "https://localhost:8080/",
          "height": 655
        },
        "id": "rtiboLO3r88c",
        "outputId": "f1bd0cae-b1d1-4e7c-f615-dafa405dc67c"
      },
      "execution_count": 3,
      "outputs": [
        {
          "output_type": "error",
          "ename": "NameError",
          "evalue": "ignored",
          "traceback": [
            "\u001b[0;31m---------------------------------------------------------------------------\u001b[0m",
            "\u001b[0;31mNameError\u001b[0m                                 Traceback (most recent call last)",
            "\u001b[0;32m<ipython-input-3-2dd4df2fba55>\u001b[0m in \u001b[0;36m<cell line: 11>\u001b[0;34m()\u001b[0m\n\u001b[1;32m      9\u001b[0m \u001b[0msns\u001b[0m\u001b[0;34m.\u001b[0m\u001b[0mhistplot\u001b[0m\u001b[0;34m(\u001b[0m\u001b[0mtemperature_data\u001b[0m\u001b[0;34m,\u001b[0m \u001b[0mkde\u001b[0m\u001b[0;34m=\u001b[0m\u001b[0;32mTrue\u001b[0m\u001b[0;34m,\u001b[0m \u001b[0mbins\u001b[0m\u001b[0;34m=\u001b[0m\u001b[0;36m30\u001b[0m\u001b[0;34m,\u001b[0m \u001b[0mcolor\u001b[0m\u001b[0;34m=\u001b[0m\u001b[0;34m'skyblue'\u001b[0m\u001b[0;34m)\u001b[0m\u001b[0;34m\u001b[0m\u001b[0;34m\u001b[0m\u001b[0m\n\u001b[1;32m     10\u001b[0m \u001b[0msns\u001b[0m\u001b[0;34m.\u001b[0m\u001b[0mdespine\u001b[0m\u001b[0;34m(\u001b[0m\u001b[0;34m)\u001b[0m\u001b[0;34m\u001b[0m\u001b[0;34m\u001b[0m\u001b[0m\n\u001b[0;32m---> 11\u001b[0;31m \u001b[0mplt\u001b[0m\u001b[0;34m.\u001b[0m\u001b[0mtitle\u001b[0m\u001b[0;34m(\u001b[0m\u001b[0;34m'Temperature Distribution'\u001b[0m\u001b[0;34m)\u001b[0m\u001b[0;34m\u001b[0m\u001b[0;34m\u001b[0m\u001b[0m\n\u001b[0m\u001b[1;32m     12\u001b[0m \u001b[0mplt\u001b[0m\u001b[0;34m.\u001b[0m\u001b[0mxlabel\u001b[0m\u001b[0;34m(\u001b[0m\u001b[0;34m'Temperature (°C)'\u001b[0m\u001b[0;34m)\u001b[0m\u001b[0;34m\u001b[0m\u001b[0;34m\u001b[0m\u001b[0m\n\u001b[1;32m     13\u001b[0m \u001b[0mplt\u001b[0m\u001b[0;34m.\u001b[0m\u001b[0mylabel\u001b[0m\u001b[0;34m(\u001b[0m\u001b[0;34m'Frequency'\u001b[0m\u001b[0;34m)\u001b[0m\u001b[0;34m\u001b[0m\u001b[0;34m\u001b[0m\u001b[0m\n",
            "\u001b[0;31mNameError\u001b[0m: name 'plt' is not defined"
          ]
        },
        {
          "output_type": "display_data",
          "data": {
            "text/plain": [
              "<Figure size 640x480 with 1 Axes>"
            ],
            "image/png": "[encoded data removed]"
          },
          "metadata": {}
        }
      ]
    },
    {
      "cell_type": "markdown",
      "source": [],
      "metadata": {
        "id": "P-JdjqZQH01G"
      }
    }
  ]
}