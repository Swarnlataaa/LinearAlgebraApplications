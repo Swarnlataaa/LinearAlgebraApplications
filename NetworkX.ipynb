{
  "nbformat": 4,
  "nbformat_minor": 0,
  "metadata": {
    "colab": {
      "provenance": [],
      "authorship_tag": "ABX9TyP+zoGuQaado2GVo4SLVJMF",
      "include_colab_link": true
    },
    "kernelspec": {
      "name": "python3",
      "display_name": "Python 3"
    },
    "language_info": {
      "name": "python"
    }
  },
  "cells": [
    {
      "cell_type": "markdown",
      "metadata": {
        "id": "view-in-github",
        "colab_type": "text"
      },
      "source": [
        "<a href=\"https://colab.research.google.com/github/Swarnlataaa/LinearAlgebraApplications/blob/main/NetworkX.ipynb\" target=\"_parent\"><img src=\"https://colab.research.google.com/assets/colab-badge.svg\" alt=\"Open In Colab\"/></a>"
      ]
    },
    {
      "cell_type": "code",
      "execution_count": null,
      "metadata": {
        "colab": {
          "base_uri": "https://localhost:8080/"
        },
        "id": "B2LQEzzmGDsN",
        "outputId": "72195864-b1d8-49e6-c94b-fc5e3aec980d"
      },
      "outputs": [
        {
          "output_type": "stream",
          "name": "stdout",
          "text": [
            "Requirement already satisfied: networkx in /usr/local/lib/python3.10/dist-packages (3.2.1)\n"
          ]
        }
      ],
      "source": [
        "!pip install networkx\n"
      ]
    },
    {
      "cell_type": "code",
      "source": [
        "import networkx as nx\n",
        "import matplotlib.pyplot as plt\n"
      ],
      "metadata": {
        "id": "PJRFoqNmihow"
      },
      "execution_count": null,
      "outputs": []
    },
    {
      "cell_type": "code",
      "source": [
        "# Create an empty graph\n",
        "G = nx.Graph()\n",
        "\n",
        "# Add nodes\n",
        "G.add_nodes_from([1, 2, 3, 4])\n",
        "\n",
        "# Add edges\n",
        "G.add_edges_from([(1, 2), (2, 3), (3, 4), (4, 1)])\n"
      ],
      "metadata": {
        "id": "ssUwtu7Pij-i"
      },
      "execution_count": null,
      "outputs": []
    },
    {
      "cell_type": "code",
      "source": [
        "# Draw the graph\n",
        "nx.draw(G, with_labels=True, font_weight='bold')\n",
        "\n",
        "# Show the plot\n",
        "plt.show()\n"
      ],
      "metadata": {
        "colab": {
          "base_uri": "https://localhost:8080/",
          "height": 516
        },
        "id": "y1YJpsG3imar",
        "outputId": "56689f69-af53-44dc-c132-dce23f56d066"
      },
      "execution_count": null,
      "outputs": [
        {
          "output_type": "display_data",
          "data": {
            "text/plain": [
              "<Figure size 640x480 with 1 Axes>"
            ],
            "image/png": "[encoded data removed]"
          },
          "metadata": {}
        }
      ]
    },
    {
      "cell_type": "code",
      "source": [
        "# Get the number of nodes and edges\n",
        "num_nodes = G.number_of_nodes()\n",
        "num_edges = G.number_of_edges()\n",
        "\n",
        "print(f\"Number of nodes: {num_nodes}\")\n",
        "print(f\"Number of edges: {num_edges}\")\n",
        "\n",
        "# Calculate degree centrality\n",
        "degree_centrality = nx.degree_centrality(G)\n",
        "print(\"Degree Centrality:\", degree_centrality)\n"
      ],
      "metadata": {
        "colab": {
          "base_uri": "https://localhost:8080/"
        },
        "id": "fxiMqFJyioZQ",
        "outputId": "1c31c149-ba8f-4d51-a14c-b803c2ba8652"
      },
      "execution_count": null,
      "outputs": [
        {
          "output_type": "stream",
          "name": "stdout",
          "text": [
            "Number of nodes: 4\n",
            "Number of edges: 4\n",
            "Degree Centrality: {1: 0.6666666666666666, 2: 0.6666666666666666, 3: 0.6666666666666666, 4: 0.6666666666666666}\n"
          ]
        }
      ]
    },
    {
      "cell_type": "code",
      "source": [
        "# Shortest path between nodes\n",
        "shortest_path = nx.shortest_path(G, source=1, target=3)\n",
        "print(\"Shortest Path:\", shortest_path)\n",
        "\n",
        "# Clustering coefficient\n",
        "clustering_coefficient = nx.clustering(G)\n",
        "print(\"Clustering Coefficient:\", clustering_coefficient)\n"
      ],
      "metadata": {
        "colab": {
          "base_uri": "https://localhost:8080/"
        },
        "id": "g8Py01yHiqtt",
        "outputId": "a36759a5-d738-47da-a9e7-10736444f8af"
      },
      "execution_count": null,
      "outputs": [
        {
          "output_type": "stream",
          "name": "stdout",
          "text": [
            "Shortest Path: [1, 2, 3]\n",
            "Clustering Coefficient: {1: 0, 2: 0, 3: 0, 4: 0}\n"
          ]
        }
      ]
    }
  ]
}